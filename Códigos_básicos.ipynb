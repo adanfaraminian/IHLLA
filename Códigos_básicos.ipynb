{
  "nbformat": 4,
  "nbformat_minor": 0,
  "metadata": {
    "colab": {
      "name": "Códigos básicos",
      "provenance": [],
      "collapsed_sections": [],
      "include_colab_link": true
    },
    "kernelspec": {
      "name": "python3",
      "display_name": "Python 3"
    },
    "language_info": {
      "name": "python"
    }
  },
  "cells": [
    {
      "cell_type": "markdown",
      "metadata": {
        "id": "view-in-github",
        "colab_type": "text"
      },
      "source": [
        "<a href=\"https://colab.research.google.com/github/adanfaraminian/IHLLA/blob/master/C%C3%B3digos_b%C3%A1sicos.ipynb\" target=\"_parent\"><img src=\"https://colab.research.google.com/assets/colab-badge.svg\" alt=\"Open In Colab\"/></a>"
      ]
    },
    {
      "cell_type": "markdown",
      "source": [
        "# Ames Housing Data"
      ],
      "metadata": {
        "id": "mEQtwfQIDt_4"
      }
    },
    {
      "cell_type": "markdown",
      "source": [
        "**Description**\n",
        "\n",
        "Welcome the Kaggle challenge for Project 2! As part of a successful submission for Project 2, we will expect you to make at least one (and hopefully, multiple!) submissions towards this regression challenge.\n",
        "\n",
        "In this challenge, you will use the well known Ames housing data to create a regression model that predicts the price of houses in Ames, IA. You should feel free to use any and all features that are present in this dataset.\n",
        "\n",
        "**Goal**\n",
        "\n",
        "It is your job to predict the sales price for each house. For each Id in the test set, you must predict the value of the SalePrice variable.\n",
        "\n",
        "**Evaluation**\n",
        "\n",
        "Kaggle leaderboard standings will be determined by root mean squared error (RMSE)."
      ],
      "metadata": {
        "id": "P2vUv5TOUJj4"
      }
    },
    {
      "cell_type": "markdown",
      "source": [
        "## Carga de datos"
      ],
      "metadata": {
        "id": "VmWOgoUSVGNY"
      }
    },
    {
      "cell_type": "code",
      "source": [
        "enlace ='https://drive.google.com/file/d/1seCRYXIl9_F3Sg_bDt5CvduQYPN8IqYk/view?usp=sharing'\n",
        "archivo = 'https://drive.google.com/uc?export=download&id=' + enlace[32:-17]\n",
        "\n",
        "df = pd.read_csv(archivo)#, usecols = ['Fecha','etr (evapotranspiración real)'], encoding= 'latin-1' )"
      ],
      "metadata": {
        "id": "nUxcxAdXVFVS"
      },
      "execution_count": null,
      "outputs": []
    },
    {
      "cell_type": "code",
      "source": [
        "df.info()"
      ],
      "metadata": {
        "id": "X9_jYwflWnc_"
      },
      "execution_count": null,
      "outputs": []
    },
    {
      "cell_type": "code",
      "source": [
        ""
      ],
      "metadata": {
        "id": "12IXmLDiW5HP"
      },
      "execution_count": null,
      "outputs": []
    }
  ]
}